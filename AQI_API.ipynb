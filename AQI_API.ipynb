{
  "nbformat": 4,
  "nbformat_minor": 0,
  "metadata": {
    "colab": {
      "provenance": []
    },
    "kernelspec": {
      "name": "python3",
      "display_name": "Python 3"
    },
    "language_info": {
      "name": "python"
    }
  },
  "cells": [
    {
      "cell_type": "code",
      "execution_count": null,
      "metadata": {
        "id": "zfIN3Q8FswAR"
      },
      "outputs": [],
      "source": [
        "import requests\n",
        "import time\n",
        "import datetime as dt"
      ]
    },
    {
      "cell_type": "code",
      "source": [
        "city_name = 'Chennai'\n",
        "limit = 1\n",
        "api_key = '3612e878349d25e6ae68bfa1d9cff1a5'"
      ],
      "metadata": {
        "id": "gyYbJMtbtM5U"
      },
      "execution_count": null,
      "outputs": []
    },
    {
      "cell_type": "code",
      "source": [
        "location_api = f'http://api.openweathermap.org/geo/1.0/direct?q={city_name}&limit={limit}&appid={api_key}'\n",
        "response_location = requests.get(location_api)\n",
        "response_location"
      ],
      "metadata": {
        "colab": {
          "base_uri": "https://localhost:8080/"
        },
        "id": "eDeF8zoIszda",
        "outputId": "15d91129-bbf2-4e83-9e85-78adb2c4dbed"
      },
      "execution_count": null,
      "outputs": [
        {
          "output_type": "execute_result",
          "data": {
            "text/plain": [
              "<Response [200]>"
            ]
          },
          "metadata": {},
          "execution_count": 3
        }
      ]
    },
    {
      "cell_type": "code",
      "source": [
        "api_response = response_location.json()"
      ],
      "metadata": {
        "id": "TZssGLj-t1eo"
      },
      "execution_count": null,
      "outputs": []
    },
    {
      "cell_type": "code",
      "source": [
        "city_json = api_response[0]"
      ],
      "metadata": {
        "id": "zd0qlIpAuAw7"
      },
      "execution_count": null,
      "outputs": []
    },
    {
      "cell_type": "code",
      "source": [
        "city_lat = city_json['lat']\n",
        "city_lon = city_json['lon']"
      ],
      "metadata": {
        "id": "wuCgecJsDNbq"
      },
      "execution_count": null,
      "outputs": []
    },
    {
      "cell_type": "code",
      "source": [
        "weather_api = f'https://api.openweathermap.org/data/2.5/weather?lat={city_lat}&lon={city_lon}&appid={api_key}'"
      ],
      "metadata": {
        "id": "mSV3M5TuCykH"
      },
      "execution_count": null,
      "outputs": []
    },
    {
      "cell_type": "code",
      "source": [
        "response_weather = requests.get(weather_api)\n",
        "response_weather"
      ],
      "metadata": {
        "colab": {
          "base_uri": "https://localhost:8080/"
        },
        "id": "FyslqFbaDR8F",
        "outputId": "3b314fee-528c-4b47-fd7f-c63b66033e07"
      },
      "execution_count": null,
      "outputs": [
        {
          "output_type": "execute_result",
          "data": {
            "text/plain": [
              "<Response [200]>"
            ]
          },
          "metadata": {},
          "execution_count": 8
        }
      ]
    },
    {
      "cell_type": "code",
      "source": [
        "api_response_weather = response_weather.json()"
      ],
      "metadata": {
        "id": "JlclUfurDcFt"
      },
      "execution_count": null,
      "outputs": []
    },
    {
      "cell_type": "code",
      "source": [
        "# api_response_weather"
      ],
      "metadata": {
        "id": "7ZoVkhy_Djn2"
      },
      "execution_count": null,
      "outputs": []
    },
    {
      "cell_type": "code",
      "source": [
        "aqi_api = f'http://api.openweathermap.org/data/2.5/air_pollution?lat={city_lat}&lon={city_lon}&appid={api_key}'"
      ],
      "metadata": {
        "id": "pB6nH-z2STKg"
      },
      "execution_count": null,
      "outputs": []
    },
    {
      "cell_type": "code",
      "source": [
        "response_aqi = requests.get(aqi_api)\n",
        "response_aqi"
      ],
      "metadata": {
        "colab": {
          "base_uri": "https://localhost:8080/"
        },
        "id": "iNSKpd9MSfDE",
        "outputId": "67c2e143-7352-45e7-9a6f-907994d1a3df"
      },
      "execution_count": null,
      "outputs": [
        {
          "output_type": "execute_result",
          "data": {
            "text/plain": [
              "<Response [200]>"
            ]
          },
          "metadata": {},
          "execution_count": 12
        }
      ]
    },
    {
      "cell_type": "code",
      "source": [
        "api_response_aqi = response_aqi.json()\n",
        "# api_response_aqi"
      ],
      "metadata": {
        "id": "Xqpgabm1Sjvp"
      },
      "execution_count": null,
      "outputs": []
    },
    {
      "cell_type": "code",
      "source": [
        "api_response_aqi_json = api_response_aqi['list'][0]\n",
        "aqi = api_response_aqi_json['main']['aqi']\n",
        "aqi_dt = api_response_aqi_json['dt']"
      ],
      "metadata": {
        "id": "R3JTOlCSSpK4"
      },
      "execution_count": null,
      "outputs": []
    },
    {
      "cell_type": "code",
      "source": [
        "def kelvin_to_celsius(temp_kelvin):\n",
        "  return format(temp_kelvin - 273.15, \".2f\")"
      ],
      "metadata": {
        "id": "SfsEgap3GJdG"
      },
      "execution_count": null,
      "outputs": []
    },
    {
      "cell_type": "code",
      "source": [
        "def convert_time(current_time, city_timezone):\n",
        "  return time.strftime(\"%H:%M:%S\", time.gmtime(current_time + city_timezone))"
      ],
      "metadata": {
        "id": "5TOfH7cYMQTl"
      },
      "execution_count": null,
      "outputs": []
    },
    {
      "cell_type": "code",
      "source": [
        "temp_kelvin = api_response_weather['main']['temp']\n",
        "current_time = api_response_weather['dt']\n",
        "city_timezone = api_response_weather['timezone']"
      ],
      "metadata": {
        "id": "D8VLv2k5HSeU"
      },
      "execution_count": null,
      "outputs": []
    },
    {
      "cell_type": "code",
      "source": [
        "temp_celsius = kelvin_to_celsius(temp_kelvin)\n",
        "temp_checked_time = convert_time(current_time, city_timezone)\n",
        "aqi_time = convert_time(aqi_dt, city_timezone)"
      ],
      "metadata": {
        "id": "xjssgn6gMJ2K"
      },
      "execution_count": null,
      "outputs": []
    },
    {
      "cell_type": "code",
      "source": [
        "print(f'{city_name}\\nLatitute = {city_lat}\\nLongitude = {city_lon}')\n",
        "print(f'Temperature at {temp_checked_time} IST is {temp_celsius} °C')\n",
        "print(f'AQI at {aqi_time} IST is {aqi}')"
      ],
      "metadata": {
        "colab": {
          "base_uri": "https://localhost:8080/"
        },
        "id": "R8Y9o-V5NEAQ",
        "outputId": "7bf4f52d-f952-4638-bb93-db657c15d0dc"
      },
      "execution_count": null,
      "outputs": [
        {
          "output_type": "stream",
          "name": "stdout",
          "text": [
            "Chennai\n",
            "Latitute = 13.0836939\n",
            "Longitude = 80.270186\n",
            "Temperature at 14:55:44 IST is 33.36 °C\n",
            "AQI at 14:55:44 IST is 3\n"
          ]
        }
      ]
    },
    {
      "cell_type": "code",
      "source": [
        "api_response_aqi_json"
      ],
      "metadata": {
        "colab": {
          "base_uri": "https://localhost:8080/"
        },
        "id": "Y-FcXaZfuHI5",
        "outputId": "ad5ce509-3826-4b82-9bf4-b52748524016"
      },
      "execution_count": null,
      "outputs": [
        {
          "output_type": "execute_result",
          "data": {
            "text/plain": [
              "{'main': {'aqi': 3},\n",
              " 'components': {'co': 397.21,\n",
              "  'no': 1.08,\n",
              "  'no2': 7.28,\n",
              "  'o3': 125.89,\n",
              "  'so2': 19.31,\n",
              "  'pm2_5': 23.96,\n",
              "  'pm10': 28.34,\n",
              "  'nh3': 1.54},\n",
              " 'dt': 1714123544}"
            ]
          },
          "metadata": {},
          "execution_count": 20
        }
      ]
    },
    {
      "cell_type": "code",
      "source": [
        "#Convert date time to UNIX timestamp\n",
        "def required_date_default(date):\n",
        "  day = int(date.split()[0])\n",
        "  month = int(date.split()[1])\n",
        "  year = int(date.split()[2])\n",
        "  if len(date.split()) == 6:\n",
        "    hour = int(date.split()[3])\n",
        "    minutes = int(date.split()[4])\n",
        "    seconds = int(date.split()[5])\n",
        "  else:\n",
        "    hour = minutes = seconds = 0\n",
        "  date_time = dt.datetime(year, month, day, hour, minutes, seconds)\n",
        "  unix_time_utc = int(date_time.timestamp())\n",
        "  unix_time_ist = int(unix_time_utc - 19800)\n",
        "  return unix_time_ist"
      ],
      "metadata": {
        "id": "1sBpw3tb2_0A"
      },
      "execution_count": null,
      "outputs": []
    },
    {
      "cell_type": "code",
      "source": [
        "starting_date = required_date_default(input('Enter in D M YYYY H M S format seperated by spaces: '))\n",
        "ending_date = required_date_default(input('Enter in D M YYYY H M S format seperated by spaces: '))\n",
        "# print(f'Starting time: {starting_date}\\nEnding time: {ending_date}')"
      ],
      "metadata": {
        "colab": {
          "base_uri": "https://localhost:8080/"
        },
        "id": "PyNohfYL3WQZ",
        "outputId": "cdc4e852-bfa8-45b2-8f62-1a17401fd490"
      },
      "execution_count": null,
      "outputs": [
        {
          "name": "stdout",
          "output_type": "stream",
          "text": [
            "Enter in D M YYYY H M S format seperated by spaces: 24 4 2024\n",
            "Enter in D M YYYY H M S format seperated by spaces: 25 4 2024\n"
          ]
        }
      ]
    },
    {
      "cell_type": "code",
      "source": [
        "aqi_historic_api = f'http://api.openweathermap.org/data/2.5/air_pollution/history?lat={city_lat}&lon={city_lon}&start={starting_date}&end={ending_date}&appid={api_key}'"
      ],
      "metadata": {
        "id": "S6WAy0vX9yae"
      },
      "execution_count": null,
      "outputs": []
    },
    {
      "cell_type": "code",
      "source": [
        "response_aqi_historic = requests.get(aqi_historic_api)\n",
        "response_aqi_historic"
      ],
      "metadata": {
        "colab": {
          "base_uri": "https://localhost:8080/"
        },
        "id": "rHhMNkmO-veD",
        "outputId": "32dae01f-2684-4ba2-b5f3-1b8d348ece37"
      },
      "execution_count": null,
      "outputs": [
        {
          "output_type": "execute_result",
          "data": {
            "text/plain": [
              "<Response [200]>"
            ]
          },
          "metadata": {},
          "execution_count": 140
        }
      ]
    },
    {
      "cell_type": "code",
      "source": [
        "hourly_aqi = response_aqi_historic.json()"
      ],
      "metadata": {
        "id": "7NnPkw6g_IyX"
      },
      "execution_count": null,
      "outputs": []
    },
    {
      "cell_type": "code",
      "source": [
        "len(hourly_aqi['list'])"
      ],
      "metadata": {
        "colab": {
          "base_uri": "https://localhost:8080/"
        },
        "id": "R7JRwe0g_h56",
        "outputId": "51a376e6-5a00-4e09-a1d5-18f4d07b5a8e"
      },
      "execution_count": null,
      "outputs": [
        {
          "output_type": "execute_result",
          "data": {
            "text/plain": [
              "24"
            ]
          },
          "metadata": {},
          "execution_count": 144
        }
      ]
    },
    {
      "cell_type": "code",
      "source": [
        "for i in range(24):\n",
        "  print(hourly_aqi['list'][i]['main']['aqi'])"
      ],
      "metadata": {
        "colab": {
          "base_uri": "https://localhost:8080/"
        },
        "id": "_OylAuOpAG73",
        "outputId": "c11e0754-3e0c-41a3-fd0d-f056df2affee"
      },
      "execution_count": null,
      "outputs": [
        {
          "output_type": "stream",
          "name": "stdout",
          "text": [
            "2\n",
            "2\n",
            "2\n",
            "2\n",
            "2\n",
            "2\n",
            "2\n",
            "3\n",
            "3\n",
            "2\n",
            "3\n",
            "3\n",
            "4\n",
            "4\n",
            "3\n",
            "3\n",
            "2\n",
            "2\n",
            "2\n",
            "2\n",
            "2\n",
            "2\n",
            "3\n",
            "3\n"
          ]
        }
      ]
    },
    {
      "cell_type": "code",
      "source": [],
      "metadata": {
        "id": "zeiuhisDAWLL"
      },
      "execution_count": null,
      "outputs": []
    }
  ]
}